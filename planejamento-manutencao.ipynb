{
 "cells": [
  {
   "cell_type": "markdown",
   "id": "ae382e08",
   "metadata": {},
   "source": [
    "# 0.0. Imports"
   ]
  },
  {
   "cell_type": "code",
   "execution_count": 1,
   "id": "638fd7c4",
   "metadata": {},
   "outputs": [],
   "source": [
    "import pandas  as pd\n",
    "import numpy   as np\n",
    "import seaborn as sns"
   ]
  },
  {
   "cell_type": "markdown",
   "id": "0796a35f",
   "metadata": {},
   "source": [
    "# 1.0. Loading Data"
   ]
  },
  {
   "cell_type": "code",
   "execution_count": 2,
   "id": "4892c477",
   "metadata": {},
   "outputs": [
    {
     "data": {
      "text/html": [
       "<div>\n",
       "<style scoped>\n",
       "    .dataframe tbody tr th:only-of-type {\n",
       "        vertical-align: middle;\n",
       "    }\n",
       "\n",
       "    .dataframe tbody tr th {\n",
       "        vertical-align: top;\n",
       "    }\n",
       "\n",
       "    .dataframe thead th {\n",
       "        text-align: right;\n",
       "    }\n",
       "</style>\n",
       "<table border=\"1\" class=\"dataframe\">\n",
       "  <thead>\n",
       "    <tr style=\"text-align: right;\">\n",
       "      <th></th>\n",
       "      <th>class</th>\n",
       "      <th>aa_000</th>\n",
       "      <th>ab_000</th>\n",
       "      <th>ac_000</th>\n",
       "      <th>ad_000</th>\n",
       "      <th>ae_000</th>\n",
       "      <th>af_000</th>\n",
       "      <th>ag_000</th>\n",
       "      <th>ag_001</th>\n",
       "      <th>ag_002</th>\n",
       "      <th>...</th>\n",
       "      <th>ee_002</th>\n",
       "      <th>ee_003</th>\n",
       "      <th>ee_004</th>\n",
       "      <th>ee_005</th>\n",
       "      <th>ee_006</th>\n",
       "      <th>ee_007</th>\n",
       "      <th>ee_008</th>\n",
       "      <th>ee_009</th>\n",
       "      <th>ef_000</th>\n",
       "      <th>eg_000</th>\n",
       "    </tr>\n",
       "  </thead>\n",
       "  <tbody>\n",
       "    <tr>\n",
       "      <th>0</th>\n",
       "      <td>neg</td>\n",
       "      <td>76698</td>\n",
       "      <td>na</td>\n",
       "      <td>2130706438</td>\n",
       "      <td>280</td>\n",
       "      <td>0</td>\n",
       "      <td>0</td>\n",
       "      <td>0</td>\n",
       "      <td>0</td>\n",
       "      <td>0</td>\n",
       "      <td>...</td>\n",
       "      <td>1240520</td>\n",
       "      <td>493384</td>\n",
       "      <td>721044</td>\n",
       "      <td>469792</td>\n",
       "      <td>339156</td>\n",
       "      <td>157956</td>\n",
       "      <td>73224</td>\n",
       "      <td>0</td>\n",
       "      <td>0</td>\n",
       "      <td>0</td>\n",
       "    </tr>\n",
       "    <tr>\n",
       "      <th>1</th>\n",
       "      <td>neg</td>\n",
       "      <td>33058</td>\n",
       "      <td>na</td>\n",
       "      <td>0</td>\n",
       "      <td>na</td>\n",
       "      <td>0</td>\n",
       "      <td>0</td>\n",
       "      <td>0</td>\n",
       "      <td>0</td>\n",
       "      <td>0</td>\n",
       "      <td>...</td>\n",
       "      <td>421400</td>\n",
       "      <td>178064</td>\n",
       "      <td>293306</td>\n",
       "      <td>245416</td>\n",
       "      <td>133654</td>\n",
       "      <td>81140</td>\n",
       "      <td>97576</td>\n",
       "      <td>1500</td>\n",
       "      <td>0</td>\n",
       "      <td>0</td>\n",
       "    </tr>\n",
       "    <tr>\n",
       "      <th>2</th>\n",
       "      <td>neg</td>\n",
       "      <td>41040</td>\n",
       "      <td>na</td>\n",
       "      <td>228</td>\n",
       "      <td>100</td>\n",
       "      <td>0</td>\n",
       "      <td>0</td>\n",
       "      <td>0</td>\n",
       "      <td>0</td>\n",
       "      <td>0</td>\n",
       "      <td>...</td>\n",
       "      <td>277378</td>\n",
       "      <td>159812</td>\n",
       "      <td>423992</td>\n",
       "      <td>409564</td>\n",
       "      <td>320746</td>\n",
       "      <td>158022</td>\n",
       "      <td>95128</td>\n",
       "      <td>514</td>\n",
       "      <td>0</td>\n",
       "      <td>0</td>\n",
       "    </tr>\n",
       "    <tr>\n",
       "      <th>3</th>\n",
       "      <td>neg</td>\n",
       "      <td>12</td>\n",
       "      <td>0</td>\n",
       "      <td>70</td>\n",
       "      <td>66</td>\n",
       "      <td>0</td>\n",
       "      <td>10</td>\n",
       "      <td>0</td>\n",
       "      <td>0</td>\n",
       "      <td>0</td>\n",
       "      <td>...</td>\n",
       "      <td>240</td>\n",
       "      <td>46</td>\n",
       "      <td>58</td>\n",
       "      <td>44</td>\n",
       "      <td>10</td>\n",
       "      <td>0</td>\n",
       "      <td>0</td>\n",
       "      <td>0</td>\n",
       "      <td>4</td>\n",
       "      <td>32</td>\n",
       "    </tr>\n",
       "    <tr>\n",
       "      <th>4</th>\n",
       "      <td>neg</td>\n",
       "      <td>60874</td>\n",
       "      <td>na</td>\n",
       "      <td>1368</td>\n",
       "      <td>458</td>\n",
       "      <td>0</td>\n",
       "      <td>0</td>\n",
       "      <td>0</td>\n",
       "      <td>0</td>\n",
       "      <td>0</td>\n",
       "      <td>...</td>\n",
       "      <td>622012</td>\n",
       "      <td>229790</td>\n",
       "      <td>405298</td>\n",
       "      <td>347188</td>\n",
       "      <td>286954</td>\n",
       "      <td>311560</td>\n",
       "      <td>433954</td>\n",
       "      <td>1218</td>\n",
       "      <td>0</td>\n",
       "      <td>0</td>\n",
       "    </tr>\n",
       "  </tbody>\n",
       "</table>\n",
       "<p>5 rows × 171 columns</p>\n",
       "</div>"
      ],
      "text/plain": [
       "  class  aa_000 ab_000      ac_000 ad_000 ae_000 af_000 ag_000 ag_001 ag_002  \\\n",
       "0   neg   76698     na  2130706438    280      0      0      0      0      0   \n",
       "1   neg   33058     na           0     na      0      0      0      0      0   \n",
       "2   neg   41040     na         228    100      0      0      0      0      0   \n",
       "3   neg      12      0          70     66      0     10      0      0      0   \n",
       "4   neg   60874     na        1368    458      0      0      0      0      0   \n",
       "\n",
       "   ...   ee_002  ee_003  ee_004  ee_005  ee_006  ee_007  ee_008 ee_009 ef_000  \\\n",
       "0  ...  1240520  493384  721044  469792  339156  157956   73224      0      0   \n",
       "1  ...   421400  178064  293306  245416  133654   81140   97576   1500      0   \n",
       "2  ...   277378  159812  423992  409564  320746  158022   95128    514      0   \n",
       "3  ...      240      46      58      44      10       0       0      0      4   \n",
       "4  ...   622012  229790  405298  347188  286954  311560  433954   1218      0   \n",
       "\n",
       "  eg_000  \n",
       "0      0  \n",
       "1      0  \n",
       "2      0  \n",
       "3     32  \n",
       "4      0  \n",
       "\n",
       "[5 rows x 171 columns]"
      ]
     },
     "execution_count": 2,
     "metadata": {},
     "output_type": "execute_result"
    }
   ],
   "source": [
    "path = '2-visualization-data/base_vigente_anos_anteriores.csv'\n",
    "data_raw = pd.read_csv(path)\n",
    "data_raw.head()"
   ]
  },
  {
   "cell_type": "markdown",
   "id": "b3727d51",
   "metadata": {},
   "source": [
    "# 2.0. Exploration Data"
   ]
  },
  {
   "cell_type": "code",
   "execution_count": 3,
   "id": "ad59503f",
   "metadata": {},
   "outputs": [
    {
     "data": {
      "text/plain": [
       "(60000, 171)"
      ]
     },
     "execution_count": 3,
     "metadata": {},
     "output_type": "execute_result"
    }
   ],
   "source": [
    "# Avaliando colunas e linhas\n",
    "data_raw.shape"
   ]
  },
  {
   "cell_type": "code",
   "execution_count": 4,
   "id": "fb65484c",
   "metadata": {},
   "outputs": [
    {
     "data": {
      "text/plain": [
       "neg    59000\n",
       "pos     1000\n",
       "Name: class, dtype: int64"
      ]
     },
     "execution_count": 4,
     "metadata": {},
     "output_type": "execute_result"
    }
   ],
   "source": [
    "# Avaliando o desbalanceamento da feature target\n",
    "data_raw['class'].value_counts()"
   ]
  },
  {
   "cell_type": "code",
   "execution_count": 5,
   "id": "59366273",
   "metadata": {},
   "outputs": [
    {
     "data": {
      "text/plain": [
       "<seaborn.axisgrid.FacetGrid at 0x2169c56fd60>"
      ]
     },
     "execution_count": 5,
     "metadata": {},
     "output_type": "execute_result"
    },
    {
     "data": {
      "image/png": "[encoded data removed]",
      "text/plain": [
       "<Figure size 360x360 with 1 Axes>"
      ]
     },
     "metadata": {
      "needs_background": "light"
     },
     "output_type": "display_data"
    }
   ],
   "source": [
    "sns.displot(data_raw['class'])"
   ]
  },
  {
   "cell_type": "code",
   "execution_count": 6,
   "id": "69aa343f",
   "metadata": {},
   "outputs": [],
   "source": [
    "df1 = data_raw.copy()"
   ]
  },
  {
   "cell_type": "code",
   "execution_count": 7,
   "id": "5b39b2c1",
   "metadata": {},
   "outputs": [],
   "source": [
    "# mudando POS para 1 e NEG para 0\n",
    "def mudando_class(df):\n",
    "    if df['class'] == 'neg':\n",
    "        return 0\n",
    "    else:\n",
    "        return 1\n",
    "    \n",
    "df1['class'] = df1.apply(mudando_class,axis=1)"
   ]
  },
  {
   "cell_type": "code",
   "execution_count": 8,
   "id": "8df99637",
   "metadata": {},
   "outputs": [],
   "source": [
    "# Alterando onde há 'na' para NaN, pois o 'na' está como string, mas é vazio de dado (feito pela equipe tecnica)\n",
    "df1 = df1[df1.columns.values].replace('na',np.nan)"
   ]
  },
  {
   "cell_type": "code",
   "execution_count": 46,
   "id": "dbac1908",
   "metadata": {},
   "outputs": [],
   "source": [
    "# Apesar de serem apenas features numéricas, da 3 em diante, estão todas como Object, logo, serão transformadas para float\n",
    "# Float, pq existem algumas colunas com numeros quebrados. Entao para nao perder tempo avaliando numero por numero, com float \n",
    "# nao há perdas (um pouco de memoria sim). O ideal seria fazer uma varredura, ou perguntar aos tecnicos quais colunas podem\n",
    "# ser trabalhadas como Inteiras\n",
    "df2 = df1.copy()\n",
    "coluObj = df1.select_dtypes('O').columns\n",
    "for n in coluObj:\n",
    "    df2[n] = df2[n].astype('float')"
   ]
  },
  {
   "cell_type": "code",
   "execution_count": 48,
   "id": "98aaa6a6",
   "metadata": {},
   "outputs": [
    {
     "name": "stdout",
     "output_type": "stream",
     "text": [
      "<class 'pandas.core.frame.DataFrame'>\n",
      "RangeIndex: 60000 entries, 0 to 59999\n",
      "Columns: 171 entries, class to eg_000\n",
      "dtypes: float64(169), int64(2)\n",
      "memory usage: 78.3 MB\n"
     ]
    }
   ],
   "source": [
    "df2.info()"
   ]
  },
  {
   "cell_type": "code",
   "execution_count": 65,
   "id": "b88ec25b",
   "metadata": {},
   "outputs": [
    {
     "data": {
      "text/plain": [
       "60000"
      ]
     },
     "execution_count": 65,
     "metadata": {},
     "output_type": "execute_result"
    }
   ],
   "source": [
    "df2.shape[0]"
   ]
  },
  {
   "cell_type": "code",
   "execution_count": 68,
   "id": "b266384c",
   "metadata": {},
   "outputs": [
    {
     "name": "stdout",
     "output_type": "stream",
     "text": [
      "ab_000\n",
      "Qtd(%): 77.22\n",
      "Media: 0.71\n",
      "Mediana: 0.0\n",
      "\n",
      "\n",
      "bk_000\n",
      "Qtd(%): 38.39\n",
      "Media: 280429.11\n",
      "Mediana: 210660.0\n",
      "\n",
      "\n",
      "bl_000\n",
      "Qtd(%): 45.46\n",
      "Media: 321353.69\n",
      "Mediana: 222540.0\n",
      "\n",
      "\n",
      "bm_000\n",
      "Qtd(%): 65.92\n",
      "Media: 399603.17\n",
      "Mediana: 239140.0\n",
      "\n",
      "\n",
      "bn_000\n",
      "Qtd(%): 73.35\n",
      "Media: 463710.83\n",
      "Mediana: 251400.0\n",
      "\n",
      "\n",
      "bo_000\n",
      "Qtd(%): 77.22\n",
      "Media: 513147.82\n",
      "Mediana: 270660.0\n",
      "\n",
      "\n",
      "bp_000\n",
      "Qtd(%): 79.57\n",
      "Media: 551389.8\n",
      "Mediana: 288320.0\n",
      "\n",
      "\n",
      "bq_000\n",
      "Qtd(%): 81.2\n",
      "Media: 582871.32\n",
      "Mediana: 305100.0\n",
      "\n",
      "\n",
      "br_000\n",
      "Qtd(%): 82.11\n",
      "Media: 604886.61\n",
      "Mediana: 320400.0\n",
      "\n",
      "\n",
      "cr_000\n",
      "Qtd(%): 77.22\n",
      "Media: 37.06\n",
      "Mediana: 0.0\n",
      "\n",
      "\n",
      "Quantidade de colunas com NaN - 10\n"
     ]
    }
   ],
   "source": [
    "# avaliacao dos dados Nan\n",
    "count = 0\n",
    "for col in df2.columns.values:\n",
    "    if (df2[col].isnull().sum()/df2.shape[0]*100>30):\n",
    "        print(col)\n",
    "        print('Qtd(%):',round(df2[col].isnull().sum()/df2.shape[0]*100,2))\n",
    "        print('Media:',round(df2[col].mean(),2))\n",
    "        print('Mediana:',round(df2[col].median(),2))\n",
    "        print('\\n')\n",
    "        count=count+1\n",
    "        \n",
    "print('Quantidade de colunas com NaN -',count)"
   ]
  },
  {
   "cell_type": "code",
   "execution_count": 80,
   "id": "26fdbf5d",
   "metadata": {},
   "outputs": [],
   "source": [
    "c = df2[df2.columns.values].isnull().sum()/df2.shape[0]*100 > 30"
   ]
  },
  {
   "cell_type": "code",
   "execution_count": 82,
   "id": "2539f731",
   "metadata": {},
   "outputs": [
    {
     "data": {
      "text/plain": [
       "class     False\n",
       "aa_000    False\n",
       "ab_000     True\n",
       "ac_000    False\n",
       "ad_000    False\n",
       "          ...  \n",
       "ee_007    False\n",
       "ee_008    False\n",
       "ee_009    False\n",
       "ef_000    False\n",
       "eg_000    False\n",
       "Length: 171, dtype: bool"
      ]
     },
     "execution_count": 82,
     "metadata": {},
     "output_type": "execute_result"
    }
   ],
   "source": [
    "c"
   ]
  },
  {
   "cell_type": "code",
   "execution_count": null,
   "id": "5c780ab3",
   "metadata": {},
   "outputs": [],
   "source": []
  },
  {
   "cell_type": "code",
   "execution_count": null,
   "id": "10e12518",
   "metadata": {},
   "outputs": [],
   "source": []
  },
  {
   "cell_type": "markdown",
   "id": "fb4d5e68",
   "metadata": {},
   "source": [
    "# Observações\n",
    "\n",
    "1 - \"Não importa\" o que são as features, pois elas estão decodificadas. Destacando as relevancias de seus valores para a feature target;\n",
    "\n",
    "2 - Levantar as features importantes para a target. Isso pode ser feito aplicando Random Forest e extraindo as Importancias;\n",
    "\n",
    "3 - Considerando o desbalanceamento dos dados, é importante fazer aplicação de Oversampling ou Undersampling, de forma a aumentar ou diminuir volume de dados de uma das classes, para haver o balanceamento dos dados;\n",
    "\n",
    "Logo, o ponto 3 será o primeiro a ser trabalhado."
   ]
  },
  {
   "cell_type": "code",
   "execution_count": null,
   "id": "e11788d2",
   "metadata": {},
   "outputs": [],
   "source": []
  },
  {
   "cell_type": "code",
   "execution_count": null,
   "id": "6d4ab331",
   "metadata": {},
   "outputs": [],
   "source": []
  }
 ],
 "metadata": {
  "kernelspec": {
   "display_name": "sejaumdatascientist",
   "language": "python",
   "name": "sejaumdatascientist"
  },
  "language_info": {
   "codemirror_mode": {
    "name": "ipython",
    "version": 3
   },
   "file_extension": ".py",
   "mimetype": "text/x-python",
   "name": "python",
   "nbconvert_exporter": "python",
   "pygments_lexer": "ipython3",
   "version": "3.9.6"
  }
 },
 "nbformat": 4,
 "nbformat_minor": 5
}
